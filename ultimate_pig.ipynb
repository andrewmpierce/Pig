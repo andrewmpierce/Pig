{
 "cells": [
  {
   "cell_type": "code",
   "execution_count": 24,
   "metadata": {
    "collapsed": true
   },
   "outputs": [],
   "source": [
    "import math\n",
    "import random\n",
    "import statistics as st\n",
    "import matplotlib.pyplot as plt"
   ]
  },
  {
   "cell_type": "code",
   "execution_count": 25,
   "metadata": {
    "collapsed": true
   },
   "outputs": [],
   "source": [
    "%matplotlib inline"
   ]
  },
  {
   "cell_type": "code",
   "execution_count": 90,
   "metadata": {
    "collapsed": false
   },
   "outputs": [],
   "source": [
    "class Player:\n",
    "    def __init__(self, score):\n",
    "        self.score = score\n",
    "        \n",
    "    def roll_die(self):\n",
    "        return random.randint(1, 6)\n",
    "    \n",
    "    \n",
    "    def decide(self):\n",
    "        return True\n",
    "    \n",
    "    \n",
    "    \n",
    "class CautiousPlayer(Player):\n",
    "    def __init__(self, score):\n",
    "        super().__init__(score)\n",
    "        \n",
    "        \n",
    "    def decide(self, roll):\n",
    "        if roll >= 3:\n",
    "            return False\n",
    "        else:\n",
    "            return True\n",
    "        \n",
    "        \n",
    "        \n",
    "class BoldPlayer(Player):\n",
    "    def __init__(self, score):\n",
    "        super().__init__(score)\n",
    "        \n",
    "        \n",
    "    def decide(self, roll):\n",
    "        if roll >= 5:\n",
    "            return False\n",
    "        else:\n",
    "            return True\n",
    "    "
   ]
  },
  {
   "cell_type": "code",
   "execution_count": 132,
   "metadata": {
    "collapsed": false
   },
   "outputs": [],
   "source": [
    "class Game:\n",
    "    def __init__(self, player1):\n",
    "        self.player1 = player1\n",
    "        \n",
    "    def reset(self):\n",
    "        self.score = 0\n",
    "    \n",
    "    def play(self):\n",
    "        self.reset()\n",
    "        for x in range(7):\n",
    "            #print(self.score)\n",
    "            roll = self.player1.roll_die()\n",
    "            #print(\"Roll 1 = {}\".format(roll))\n",
    "            if roll == 1:\n",
    "                continue\n",
    "            else:\n",
    "                if self.player1.decide(roll):\n",
    "                    roll2 = self.player1.roll_die()\n",
    "                    #print(\"Roll 2 = {}\".format(roll2))\n",
    "                    if roll2 == 1:\n",
    "                        continue\n",
    "                    else:\n",
    "                        self.score += roll\n",
    "                        self.score += roll2\n",
    "                else:\n",
    "                    self.score += roll\n",
    "                    continue\n",
    "        return self.score\n",
    "\n",
    "        "
   ]
  },
  {
   "cell_type": "code",
   "execution_count": null,
   "metadata": {
    "collapsed": false
   },
   "outputs": [],
   "source": []
  },
  {
   "cell_type": "code",
   "execution_count": 137,
   "metadata": {
    "collapsed": false
   },
   "outputs": [],
   "source": [
    "bill = CautiousPlayer(0)\n",
    "game1 = Game(bill)\n",
    "game1.play()\n",
    "\n",
    "cautious_data = [game1.play() for x in range(1000)]\n",
    "x_values = [x for x in range(1000)]"
   ]
  },
  {
   "cell_type": "code",
   "execution_count": 139,
   "metadata": {
    "collapsed": false
   },
   "outputs": [],
   "source": [
    "betty = BoldPlayer(0)\n",
    "game2 = Game(betty)\n",
    "game2.play()\n",
    "\n",
    "bold_data = [game2.play() for x in range(1000)]"
   ]
  },
  {
   "cell_type": "code",
   "execution_count": 144,
   "metadata": {
    "collapsed": false
   },
   "outputs": [
    {
     "data": {
      "image/png": "[encoded data removed]",
      "text/plain": [
       "<matplotlib.figure.Figure at 0x111b34a58>"
      ]
     },
     "metadata": {},
     "output_type": "display_data"
    }
   ],
   "source": [
    "plt.hist(cautious_data)\n",
    "plt.title(\"Cautious Player Data over 1000 Games\")\n",
    "plt.xlabel(\"Score of Game\")\n",
    "plt.ylabel(\"Number of Occurences\")\n",
    "plt.show()"
   ]
  },
  {
   "cell_type": "code",
   "execution_count": null,
   "metadata": {
    "collapsed": true
   },
   "outputs": [],
   "source": []
  }
 ],
 "metadata": {
  "kernelspec": {
   "display_name": "Python 3",
   "language": "python",
   "name": "python3"
  },
  "language_info": {
   "codemirror_mode": {
    "name": "ipython",
    "version": 3
   },
   "file_extension": ".py",
   "mimetype": "text/x-python",
   "name": "python",
   "nbconvert_exporter": "python",
   "pygments_lexer": "ipython3",
   "version": "3.4.3"
  }
 },
 "nbformat": 4,
 "nbformat_minor": 0
}
